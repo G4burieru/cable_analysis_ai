{
 "cells": [
  {
   "cell_type": "markdown",
   "id": "4f317d9a",
   "metadata": {},
   "source": [
    "This code is used to train the neural network to detect the cables, to run it with the GPU conda enviroment is needed"
   ]
  },
  {
   "cell_type": "code",
   "execution_count": 2,
   "id": "331bd0b3-dd07-45f4-9b8a-bd14b2b48e26",
   "metadata": {},
   "outputs": [],
   "source": [
    "from ultralytics import YOLO"
   ]
  },
  {
   "cell_type": "code",
   "execution_count": null,
   "id": "e16315a6-edc1-49a8-a8f4-5a4ad06f5506",
   "metadata": {},
   "outputs": [],
   "source": [
    "# Load a model\n",
    "model = YOLO('yolov8n.yaml')  # build a new model from YAM"
   ]
  },
  {
   "cell_type": "markdown",
   "id": "9b79df8d",
   "metadata": {},
   "source": [
    "This block take the informations from the data.yaml with the paths for images and labels, the parameters are respectively: path for data, epochs, wich is the amount of epochs that we want to train the network, imgsz, wich is the size of the image horizontally, patiente, wich is the amount of epochs that we want to wait without improvements to stop the training earlier than the epochs"
   ]
  },
  {
   "cell_type": "code",
   "execution_count": null,
   "id": "25d9f8c4-bb30-49d1-8b18-8adfb2d157af",
   "metadata": {},
   "outputs": [],
   "source": [
    "# Train the model\n",
    "results = model.train(data='data.yaml', epochs=500, imgsz=640, patience=100)"
   ]
  }
 ],
 "metadata": {
  "kernelspec": {
   "display_name": "Python 3.9 (torch)",
   "language": "python",
   "name": "pytorch"
  },
  "language_info": {
   "codemirror_mode": {
    "name": "ipython",
    "version": 3
   },
   "file_extension": ".py",
   "mimetype": "text/x-python",
   "name": "python",
   "nbconvert_exporter": "python",
   "pygments_lexer": "ipython3",
   "version": "3.9.18"
  }
 },
 "nbformat": 4,
 "nbformat_minor": 5
}
